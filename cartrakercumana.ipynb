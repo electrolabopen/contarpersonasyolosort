{
  "nbformat": 4,
  "nbformat_minor": 0,
  "metadata": {
    "colab": {
      "name": "cartrakercumana.ipynb",
      "provenance": [],
      "toc_visible": true,
      "authorship_tag": "ABX9TyOiAfEg7anozXhgc3NhVRbR",
      "include_colab_link": true
    },
    "kernelspec": {
      "name": "python3",
      "display_name": "Python 3"
    },
    "accelerator": "GPU"
  },
  "cells": [
    {
      "cell_type": "markdown",
      "metadata": {
        "id": "view-in-github",
        "colab_type": "text"
      },
      "source": [
        "<a href=\"https://colab.research.google.com/github/electrolabopen/contarpersonasyolosort/blob/master/cartrakercumana.ipynb\" target=\"_parent\"><img src=\"https://colab.research.google.com/assets/colab-badge.svg\" alt=\"Open In Colab\"/></a>"
      ]
    },
    {
      "cell_type": "markdown",
      "metadata": {
        "id": "EOnz0DbuXnwG",
        "colab_type": "text"
      },
      "source": [
        "#Clonamos el repositorio#"
      ]
    },
    {
      "cell_type": "code",
      "metadata": {
        "id": "k5npT3BbXl5i",
        "colab_type": "code",
        "colab": {
          "base_uri": "https://localhost:8080/",
          "height": 34
        },
        "outputId": "b51da0c3-704d-46e7-b742-0421b79d91b4"
      },
      "source": [
        "!git clone https://github.com/electrolabopen/contarpersonasyolosort"
      ],
      "execution_count": 5,
      "outputs": [
        {
          "output_type": "stream",
          "text": [
            "fatal: destination path 'contarpersonasyolosort' already exists and is not an empty directory.\n"
          ],
          "name": "stdout"
        }
      ]
    },
    {
      "cell_type": "markdown",
      "metadata": {
        "id": "Z0uZ_1PjX_OC",
        "colab_type": "text"
      },
      "source": [
        "#Descargamos loa pesos de Yolov3-tiny desde la pagina https://pjreddie.com/darknet/yolo/"
      ]
    },
    {
      "cell_type": "code",
      "metadata": {
        "id": "AvXcrNz3X-dT",
        "colab_type": "code",
        "colab": {
          "base_uri": "https://localhost:8080/",
          "height": 204
        },
        "outputId": "06c1f89e-57ec-44ca-ab9f-96a4c08b07a2"
      },
      "source": [
        "!wget https://pjreddie.com/media/files/yolov3-tiny.weights"
      ],
      "execution_count": 1,
      "outputs": [
        {
          "output_type": "stream",
          "text": [
            "--2020-09-05 03:48:25--  https://pjreddie.com/media/files/yolov3-tiny.weights\n",
            "Resolving pjreddie.com (pjreddie.com)... 128.208.4.108\n",
            "Connecting to pjreddie.com (pjreddie.com)|128.208.4.108|:443... connected.\n",
            "HTTP request sent, awaiting response... 200 OK\n",
            "Length: 35434956 (34M) [application/octet-stream]\n",
            "Saving to: ‘yolov3-tiny.weights’\n",
            "\n",
            "yolov3-tiny.weights 100%[===================>]  33.79M  1.61MB/s    in 24s     \n",
            "\n",
            "2020-09-05 03:48:50 (1.40 MB/s) - ‘yolov3-tiny.weights’ saved [35434956/35434956]\n",
            "\n"
          ],
          "name": "stdout"
        }
      ]
    },
    {
      "cell_type": "markdown",
      "metadata": {
        "id": "1_d8NQmuYn3U",
        "colab_type": "text"
      },
      "source": [
        "#Clonamos la red Darknet#"
      ]
    },
    {
      "cell_type": "code",
      "metadata": {
        "id": "x7h9_I_9YmlZ",
        "colab_type": "code",
        "colab": {
          "base_uri": "https://localhost:8080/",
          "height": 102
        },
        "outputId": "35124403-70c1-4c5d-eea2-03223a42d07d"
      },
      "source": [
        "!git clone https://github.com/AlexeyAB/darknet/\n"
      ],
      "execution_count": 2,
      "outputs": [
        {
          "output_type": "stream",
          "text": [
            "Cloning into 'darknet'...\n",
            "remote: Enumerating objects: 14285, done.\u001b[K\n",
            "remote: Total 14285 (delta 0), reused 0 (delta 0), pack-reused 14285\u001b[K\n",
            "Receiving objects: 100% (14285/14285), 12.84 MiB | 7.14 MiB/s, done.\n",
            "Resolving deltas: 100% (9748/9748), done.\n"
          ],
          "name": "stdout"
        }
      ]
    },
    {
      "cell_type": "markdown",
      "metadata": {
        "id": "FDDdU4gMY4Mf",
        "colab_type": "text"
      },
      "source": [
        "#Descargamos Filterpy libreria del Filtro Kalman que vamos a usar para el seguimiento#"
      ]
    },
    {
      "cell_type": "code",
      "metadata": {
        "id": "g5SGpPOEY1z6",
        "colab_type": "code",
        "colab": {
          "base_uri": "https://localhost:8080/",
          "height": 343
        },
        "outputId": "3ff26986-6857-4640-8a88-e7e372338b0b"
      },
      "source": [
        "!pip install filterpy"
      ],
      "execution_count": 3,
      "outputs": [
        {
          "output_type": "stream",
          "text": [
            "Collecting filterpy\n",
            "\u001b[?25l  Downloading https://files.pythonhosted.org/packages/f6/1d/ac8914360460fafa1990890259b7fa5ef7ba4cd59014e782e4ab3ab144d8/filterpy-1.4.5.zip (177kB)\n",
            "\r\u001b[K     |█▉                              | 10kB 21.6MB/s eta 0:00:01\r\u001b[K     |███▊                            | 20kB 1.8MB/s eta 0:00:01\r\u001b[K     |█████▌                          | 30kB 2.4MB/s eta 0:00:01\r\u001b[K     |███████▍                        | 40kB 2.5MB/s eta 0:00:01\r\u001b[K     |█████████▏                      | 51kB 2.1MB/s eta 0:00:01\r\u001b[K     |███████████                     | 61kB 2.3MB/s eta 0:00:01\r\u001b[K     |████████████▉                   | 71kB 2.6MB/s eta 0:00:01\r\u001b[K     |██████████████▊                 | 81kB 2.8MB/s eta 0:00:01\r\u001b[K     |████████████████▋               | 92kB 3.0MB/s eta 0:00:01\r\u001b[K     |██████████████████▍             | 102kB 2.8MB/s eta 0:00:01\r\u001b[K     |████████████████████▎           | 112kB 2.8MB/s eta 0:00:01\r\u001b[K     |██████████████████████          | 122kB 2.8MB/s eta 0:00:01\r\u001b[K     |████████████████████████        | 133kB 2.8MB/s eta 0:00:01\r\u001b[K     |█████████████████████████▊      | 143kB 2.8MB/s eta 0:00:01\r\u001b[K     |███████████████████████████▋    | 153kB 2.8MB/s eta 0:00:01\r\u001b[K     |█████████████████████████████▌  | 163kB 2.8MB/s eta 0:00:01\r\u001b[K     |███████████████████████████████▎| 174kB 2.8MB/s eta 0:00:01\r\u001b[K     |████████████████████████████████| 184kB 2.8MB/s \n",
            "\u001b[?25hRequirement already satisfied: numpy in /usr/local/lib/python3.6/dist-packages (from filterpy) (1.18.5)\n",
            "Requirement already satisfied: scipy in /usr/local/lib/python3.6/dist-packages (from filterpy) (1.4.1)\n",
            "Requirement already satisfied: matplotlib in /usr/local/lib/python3.6/dist-packages (from filterpy) (3.2.2)\n",
            "Requirement already satisfied: kiwisolver>=1.0.1 in /usr/local/lib/python3.6/dist-packages (from matplotlib->filterpy) (1.2.0)\n",
            "Requirement already satisfied: python-dateutil>=2.1 in /usr/local/lib/python3.6/dist-packages (from matplotlib->filterpy) (2.8.1)\n",
            "Requirement already satisfied: pyparsing!=2.0.4,!=2.1.2,!=2.1.6,>=2.0.1 in /usr/local/lib/python3.6/dist-packages (from matplotlib->filterpy) (2.4.7)\n",
            "Requirement already satisfied: cycler>=0.10 in /usr/local/lib/python3.6/dist-packages (from matplotlib->filterpy) (0.10.0)\n",
            "Requirement already satisfied: six>=1.5 in /usr/local/lib/python3.6/dist-packages (from python-dateutil>=2.1->matplotlib->filterpy) (1.15.0)\n",
            "Building wheels for collected packages: filterpy\n",
            "  Building wheel for filterpy (setup.py) ... \u001b[?25l\u001b[?25hdone\n",
            "  Created wheel for filterpy: filename=filterpy-1.4.5-cp36-none-any.whl size=110450 sha256=c1fd2d082d937dd23769808aa166fe0979d8179cc199b23386fefd5a6bfb1421\n",
            "  Stored in directory: /root/.cache/pip/wheels/c3/0c/dd/e92392c3f38a41371602d99fc77d6c1d42aadbf0c6afccdd02\n",
            "Successfully built filterpy\n",
            "Installing collected packages: filterpy\n",
            "Successfully installed filterpy-1.4.5\n"
          ],
          "name": "stdout"
        }
      ]
    },
    {
      "cell_type": "code",
      "metadata": {
        "id": "BNo59rr9cKfu",
        "colab_type": "code",
        "colab": {
          "base_uri": "https://localhost:8080/",
          "height": 204
        },
        "outputId": "87edcce3-6f6b-49aa-8589-4980ac13b31b"
      },
      "source": [
        "!wget https://pjreddie.com/media/files/yolov3.weights"
      ],
      "execution_count": 7,
      "outputs": [
        {
          "output_type": "stream",
          "text": [
            "--2020-09-05 04:04:58--  https://pjreddie.com/media/files/yolov3.weights\n",
            "Resolving pjreddie.com (pjreddie.com)... 128.208.4.108\n",
            "Connecting to pjreddie.com (pjreddie.com)|128.208.4.108|:443... connected.\n",
            "HTTP request sent, awaiting response... 200 OK\n",
            "Length: 248007048 (237M) [application/octet-stream]\n",
            "Saving to: ‘yolov3.weights’\n",
            "\n",
            "yolov3.weights      100%[===================>] 236.52M  1.08MB/s    in 3m 19s  \n",
            "\n",
            "2020-09-05 04:08:18 (1.19 MB/s) - ‘yolov3.weights’ saved [248007048/248007048]\n",
            "\n"
          ],
          "name": "stdout"
        }
      ]
    },
    {
      "cell_type": "code",
      "metadata": {
        "id": "PWHmbuRSdzKn",
        "colab_type": "code",
        "colab": {
          "base_uri": "https://localhost:8080/",
          "height": 190
        },
        "outputId": "9708e28b-e255-47ca-f966-c2fb80dee431"
      },
      "source": [
        "!python /content/contarpersonasyolosort/main.py --input /content/contarpersonasyolosort/input/cumana.mp4 --output /content/contarpersonasyolosort/output/cumana.avi --yolo /content/contarpersonasyolosort/yolo-coco"
      ],
      "execution_count": 10,
      "outputs": [
        {
          "output_type": "stream",
          "text": [
            "/usr/local/lib/python3.6/dist-packages/sklearn/utils/linear_assignment_.py:22: FutureWarning: The linear_assignment_ module is deprecated in 0.21 and will be removed from 0.23. Use scipy.optimize.linear_sum_assignment instead.\n",
            "  FutureWarning)\n",
            "[INFO] loading YOLO from disk...\n",
            "[INFO] 450 total frames in video\n",
            "[INFO] single frame took 2.2188 seconds\n",
            "[INFO] estimated total time to finish: 998.4637\n",
            "/usr/local/lib/python3.6/dist-packages/sklearn/utils/linear_assignment_.py:128: FutureWarning: The linear_assignment function is deprecated in 0.21 and will be removed from 0.23. Use scipy.optimize.linear_sum_assignment instead.\n",
            "  FutureWarning)\n",
            "[INFO] cleaning up...\n"
          ],
          "name": "stdout"
        }
      ]
    }
  ]
}